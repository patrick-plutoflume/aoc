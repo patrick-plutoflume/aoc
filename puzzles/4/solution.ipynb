{
 "cells": [
  {
   "cell_type": "code",
   "execution_count": 3,
   "metadata": {},
   "outputs": [],
   "source": [
    "with open(\"input.txt\") as f:\n",
    "    inputs = f.read().split(\"\\n\\n\")"
   ]
  },
  {
   "cell_type": "markdown",
   "metadata": {},
   "source": [
    "# Part 1"
   ]
  },
  {
   "cell_type": "code",
   "execution_count": 39,
   "metadata": {},
   "outputs": [],
   "source": [
    "import re\n",
    "\n",
    "\n",
    "required_fields = {\"byr\", \"iyr\", \"eyr\", \"hgt\", \"hcl\", \"ecl\", \"pid\"}\n",
    "\n",
    "field_pattern = r\"([bie]yr|hgt|[he]cl|pid):(\\S+)\"\n",
    "\n",
    "\n",
    "def is_valid_passport(passport):\n",
    "    return set(\n",
    "        extracted_field.group(1)\n",
    "        for extracted_field in re.finditer(\n",
    "            field_pattern, \n",
    "            passport,\n",
    "            flags=re.MULTILINE\n",
    "        )\n",
    "    ) == required_fields\n"
   ]
  },
  {
   "cell_type": "code",
   "execution_count": 40,
   "metadata": {},
   "outputs": [
    {
     "data": {
      "text/plain": [
       "213"
      ]
     },
     "execution_count": 40,
     "metadata": {},
     "output_type": "execute_result"
    }
   ],
   "source": [
    "sum(map(is_valid_passport, inputs))"
   ]
  },
  {
   "cell_type": "markdown",
   "metadata": {},
   "source": [
    "# Part 2"
   ]
  },
  {
   "cell_type": "markdown",
   "metadata": {},
   "source": [
    "You can continue to ignore the cid field, but each other field has strict rules about what values are valid for automatic validation:\n",
    "\n",
    "- byr (Birth Year) - four digits; at least 1920 and at most 2002.\n",
    "- iyr (Issue Year) - four digits; at least 2010 and at most 2020.\n",
    "- eyr (Expiration Year) - four digits; at least 2020 and at most 2030.\n",
    "- hgt (Height) - a number followed by either cm or in:\n",
    "- If cm, the number must be at least 150 and at most 193.\n",
    "- If in, the number must be at least 59 and at most 76.\n",
    "- hcl (Hair Color) - a # followed by exactly six characters 0-9 or a-f.\n",
    "- ecl (Eye Color) - exactly one of: amb blu brn gry grn hzl oth.\n",
    "- pid (Passport ID) - a nine-digit number, including leading zeroes.\n",
    "- cid (Country ID) - ignored, missing or not."
   ]
  },
  {
   "cell_type": "code",
   "execution_count": 101,
   "metadata": {},
   "outputs": [],
   "source": [
    "from functools import partial\n",
    "\n",
    "\n",
    "s_in_range = lambda a, b: lambda m: re.match(r\"\\d+\", m) and a <= int(m) <= b\n",
    "\n",
    "hgt_cm_val = s_in_range(150, 193)\n",
    "hgt_in_val = s_in_range(59, 76)\n",
    "\n",
    "height_cm = lambda m: hgt_cm_val(m.rstrip(\"cm\"))\n",
    "height_in = lambda m: hgt_in_val(m.rstrip(\"in\"))\n",
    "\n",
    "validators = {\n",
    "    \"byr\": s_in_range(1920, 2002),\n",
    "    \"iyr\": s_in_range(2010, 2020),\n",
    "    \"eyr\": s_in_range(2020, 2030),\n",
    "    \"hgt\": lambda m: height_cm(m) if m.endswith(\"cm\") else (height_in(m) if m.endswith(\"in\") else False),\n",
    "    \"hcl\": lambda m: bool(re.match(r\"#[0-9a-f]{6}\", m)),\n",
    "    \"ecl\": lambda m: m in {\"amb\", \"blu\", \"brn\", \"gry\", \"grn\", \"hzl\", \"oth\"},\n",
    "    \"pid\": lambda m: len(m) == 9 and int(m) is not None\n",
    "}\n",
    "\n",
    "\n",
    "def is_valid_passport_2(passport):\n",
    "    fields = {\n",
    "        f.group(1): f.group(2)\n",
    "        for f in re.finditer(\n",
    "            field_pattern,\n",
    "            passport,\n",
    "            flags=re.MULTILINE\n",
    "        )\n",
    "    }\n",
    "    \n",
    "    if set(required_fields) - set(fields) != set():\n",
    "        return False\n",
    "    \n",
    "    for field, value in fields.items():\n",
    "        try:\n",
    "            assert bool(validators[field](value)) == True\n",
    "        except:\n",
    "            return False\n",
    "        \n",
    "    return True\n"
   ]
  },
  {
   "cell_type": "code",
   "execution_count": 102,
   "metadata": {},
   "outputs": [
    {
     "data": {
      "text/plain": [
       "213"
      ]
     },
     "execution_count": 102,
     "metadata": {},
     "output_type": "execute_result"
    }
   ],
   "source": [
    "sum(map(is_valid_passport, inputs))"
   ]
  },
  {
   "cell_type": "code",
   "execution_count": 103,
   "metadata": {},
   "outputs": [
    {
     "data": {
      "text/plain": [
       "147"
      ]
     },
     "execution_count": 103,
     "metadata": {},
     "output_type": "execute_result"
    }
   ],
   "source": [
    "sum(map(is_valid_passport_2, inputs))"
   ]
  },
  {
   "cell_type": "code",
   "execution_count": null,
   "metadata": {},
   "outputs": [],
   "source": []
  }
 ],
 "metadata": {
  "kernelspec": {
   "display_name": "Python 3",
   "language": "python",
   "name": "python3"
  },
  "language_info": {
   "codemirror_mode": {
    "name": "ipython",
    "version": 3
   },
   "file_extension": ".py",
   "mimetype": "text/x-python",
   "name": "python",
   "nbconvert_exporter": "python",
   "pygments_lexer": "ipython3",
   "version": "3.6.6"
  }
 },
 "nbformat": 4,
 "nbformat_minor": 4
}
