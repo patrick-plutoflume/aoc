{
 "cells": [
  {
   "cell_type": "code",
   "execution_count": 1,
   "metadata": {},
   "outputs": [],
   "source": [
    "with open(\"input.txt\") as f:\n",
    "    lines = list(map(str.rstrip, f))"
   ]
  },
  {
   "cell_type": "code",
   "execution_count": 140,
   "metadata": {},
   "outputs": [],
   "source": [
    "import re\n",
    "from collections import namedtuple, defaultdict\n",
    "\n",
    "\n",
    "Subj = namedtuple(\"Subj\", (\"adverb\", \"colour\"))\n",
    "Obj = namedtuple(\"Obj\", (\"quantity\", \"adverb\", \"colour\"))\n",
    "\n",
    "\n",
    "def parse_rule(r):\n",
    "    subj, *objs = re.findall(r\"(?P<subj_clause>(?:\\d+ )?\\w+ \\w+) bags?\", r)\n",
    "    \n",
    "    try:\n",
    "        return Subj(*subj.split()), list(Obj(*obj.split()) for obj in objs)\n",
    "    except:\n",
    "        if \"no other bags\" in r:\n",
    "            return Subj(*subj.split()), list()\n",
    "        else:\n",
    "            raise ValueError(f\"{r} - {subj}, {objs}\")\n",
    "\n",
    "def build_grammar(rs):\n",
    "    grammar = {\n",
    "        \"contained_by\": defaultdict(set)\n",
    "    }\n",
    "    \n",
    "    for r in rs:\n",
    "        subj, objs = parse_rule(r)\n",
    "        k_s = (subj.adverb, subj.colour)\n",
    "        \n",
    "        for o in objs:\n",
    "            k_o = (o.adverb, o.colour)\n",
    "            grammar[\"contained_by\"][k_o].add(k_s)\n",
    "    \n",
    "    return grammar"
   ]
  },
  {
   "cell_type": "code",
   "execution_count": 141,
   "metadata": {},
   "outputs": [],
   "source": [
    "g = build_grammar(lines)"
   ]
  },
  {
   "cell_type": "code",
   "execution_count": 142,
   "metadata": {},
   "outputs": [],
   "source": [
    "def search_can_contain(adverb, colour):\n",
    "    visited_nodes = set()\n",
    "    \n",
    "    def dfs(node):\n",
    "        if node not in visited_nodes:\n",
    "            visited_nodes.add(node)\n",
    "            \n",
    "            for neighbour in g[\"contained_by\"][node]:\n",
    "                dfs(neighbour)\n",
    "    \n",
    "    dfs((adverb, colour))\n",
    "    \n",
    "    return len(visited_nodes) - 1\n"
   ]
  },
  {
   "cell_type": "code",
   "execution_count": 143,
   "metadata": {},
   "outputs": [
    {
     "data": {
      "text/plain": [
       "268"
      ]
     },
     "execution_count": 143,
     "metadata": {},
     "output_type": "execute_result"
    }
   ],
   "source": [
    "search_can_contain(\"shiny\", \"gold\")"
   ]
  },
  {
   "cell_type": "code",
   "execution_count": 146,
   "metadata": {},
   "outputs": [],
   "source": [
    "def build_grammar_2(rs):\n",
    "    grammar = {\n",
    "        \"contains\": defaultdict(set),\n",
    "    }\n",
    "    \n",
    "    for r in rs:\n",
    "        subj, objs = parse_rule(r)\n",
    "        k_s = (subj.adverb, subj.colour)\n",
    "        \n",
    "        for o in objs:\n",
    "            k_o = (o.quantity, o.adverb, o.colour)\n",
    "            grammar[\"contains\"][k_s].add(k_o)\n",
    "    \n",
    "    return grammar\n",
    "\n",
    "\n",
    "g_2 = build_grammar_2(lines)\n",
    "\n",
    "\n",
    "def count_must_contain(adverb, colour, debug=True):\n",
    "    TAB = \"\\t\"\n",
    "    \n",
    "    def dfs(adverb, colour, quantity=1, depth=0):  # not _really_ a DFS but ok because it's acyclic - otherwise key would have to be entire path\n",
    "        node = (adverb, colour)\n",
    "                    \n",
    "        if g_2[\"contains\"][node]:\n",
    "            quantity = int(quantity)\n",
    "            \n",
    "            ret = quantity + (quantity * sum(\n",
    "                dfs(\n",
    "                    adverb=a, colour=c, quantity=q, depth=depth+1\n",
    "                )\n",
    "                for q, a, c in g_2[\"contains\"][node]\n",
    "            ))\n",
    "            if debug:\n",
    "                print(f\"{TAB * depth} {quantity} {adverb} {colour} - returns {ret} as product+leaf\")\n",
    "            return ret\n",
    "        else:\n",
    "            ret = int(quantity)\n",
    "            if debug:\n",
    "                print(f\"{TAB * depth} {quantity} {adverb} {colour} - returns {ret} as leaf\")\n",
    "            return ret\n",
    "    \n",
    "    return dfs(adverb, colour) - 1"
   ]
  },
  {
   "cell_type": "code",
   "execution_count": 147,
   "metadata": {},
   "outputs": [
    {
     "name": "stdout",
     "output_type": "stream",
     "text": [
      "\t\t 3 clear red - returns 3 as leaf\n",
      "\t\t\t 5 muted white - returns 5 as leaf\n",
      "\t\t\t 4 dull lime - returns 4 as leaf\n",
      "\t\t\t 2 faded fuchsia - returns 2 as leaf\n",
      "\t\t\t 2 dim gold - returns 2 as leaf\n",
      "\t\t 3 dotted maroon - returns 42 as product+leaf\n",
      "\t 5 muted black - returns 230 as product+leaf\n",
      "\t\t\t\t 3 muted magenta - returns 3 as leaf\n",
      "\t\t\t\t\t 1 faded fuchsia - returns 1 as leaf\n",
      "\t\t\t\t\t\t 5 dark cyan - returns 5 as leaf\n",
      "\t\t\t\t\t 2 dark purple - returns 12 as product+leaf\n",
      "\t\t\t\t\t 4 clear red - returns 4 as leaf\n",
      "\t\t\t\t 2 dull red - returns 36 as product+leaf\n",
      "\t\t\t 4 mirrored plum - returns 160 as product+leaf\n",
      "\t\t\t\t\t 1 faded fuchsia - returns 1 as leaf\n",
      "\t\t\t\t\t\t 5 dark cyan - returns 5 as leaf\n",
      "\t\t\t\t\t 2 dark purple - returns 12 as product+leaf\n",
      "\t\t\t\t\t 4 clear red - returns 4 as leaf\n",
      "\t\t\t\t 5 dull red - returns 90 as product+leaf\n",
      "\t\t\t\t\t 4 clear red - returns 4 as leaf\n",
      "\t\t\t\t 5 dotted plum - returns 25 as product+leaf\n",
      "\t\t\t\t\t 4 dull lime - returns 4 as leaf\n",
      "\t\t\t\t\t\t\t\t 3 dark cyan - returns 3 as leaf\n",
      "\t\t\t\t\t\t\t\t 3 striped crimson - returns 3 as leaf\n",
      "\t\t\t\t\t\t\t 5 light beige - returns 35 as product+leaf\n",
      "\t\t\t\t\t\t\t 3 light white - returns 3 as leaf\n",
      "\t\t\t\t\t\t 1 shiny maroon - returns 39 as product+leaf\n",
      "\t\t\t\t\t\t\t 3 dark cyan - returns 3 as leaf\n",
      "\t\t\t\t\t\t\t 3 striped crimson - returns 3 as leaf\n",
      "\t\t\t\t\t\t 1 light beige - returns 7 as product+leaf\n",
      "\t\t\t\t\t\t 2 faded fuchsia - returns 2 as leaf\n",
      "\t\t\t\t\t 4 bright tan - returns 196 as product+leaf\n",
      "\t\t\t\t\t\t\t 3 dark cyan - returns 3 as leaf\n",
      "\t\t\t\t\t\t\t 3 striped crimson - returns 3 as leaf\n",
      "\t\t\t\t\t\t 5 light beige - returns 35 as product+leaf\n",
      "\t\t\t\t\t\t 3 light white - returns 3 as leaf\n",
      "\t\t\t\t\t 4 shiny maroon - returns 156 as product+leaf\n",
      "\t\t\t\t\t 2 faded fuchsia - returns 2 as leaf\n",
      "\t\t\t\t 1 dark plum - returns 359 as product+leaf\n",
      "\t\t\t\t 1 dark cyan - returns 1 as leaf\n",
      "\t\t\t 5 faded silver - returns 2380 as product+leaf\n",
      "\t\t 1 vibrant bronze - returns 2541 as product+leaf\n",
      "\t 1 wavy silver - returns 2542 as product+leaf\n",
      "\t 1 dull lime - returns 1 as leaf\n",
      "\t\t\t\t 3 muted magenta - returns 3 as leaf\n",
      "\t\t\t\t\t 1 faded fuchsia - returns 1 as leaf\n",
      "\t\t\t\t\t\t 5 dark cyan - returns 5 as leaf\n",
      "\t\t\t\t\t 2 dark purple - returns 12 as product+leaf\n",
      "\t\t\t\t\t 4 clear red - returns 4 as leaf\n",
      "\t\t\t\t 2 dull red - returns 36 as product+leaf\n",
      "\t\t\t 4 mirrored plum - returns 160 as product+leaf\n",
      "\t\t\t\t\t 1 faded fuchsia - returns 1 as leaf\n",
      "\t\t\t\t\t\t 5 dark cyan - returns 5 as leaf\n",
      "\t\t\t\t\t 2 dark purple - returns 12 as product+leaf\n",
      "\t\t\t\t\t 4 clear red - returns 4 as leaf\n",
      "\t\t\t\t 5 dull red - returns 90 as product+leaf\n",
      "\t\t\t\t\t 4 clear red - returns 4 as leaf\n",
      "\t\t\t\t 5 dotted plum - returns 25 as product+leaf\n",
      "\t\t\t\t\t 4 dull lime - returns 4 as leaf\n",
      "\t\t\t\t\t\t\t\t 3 dark cyan - returns 3 as leaf\n",
      "\t\t\t\t\t\t\t\t 3 striped crimson - returns 3 as leaf\n",
      "\t\t\t\t\t\t\t 5 light beige - returns 35 as product+leaf\n",
      "\t\t\t\t\t\t\t 3 light white - returns 3 as leaf\n",
      "\t\t\t\t\t\t 1 shiny maroon - returns 39 as product+leaf\n",
      "\t\t\t\t\t\t\t 3 dark cyan - returns 3 as leaf\n",
      "\t\t\t\t\t\t\t 3 striped crimson - returns 3 as leaf\n",
      "\t\t\t\t\t\t 1 light beige - returns 7 as product+leaf\n",
      "\t\t\t\t\t\t 2 faded fuchsia - returns 2 as leaf\n",
      "\t\t\t\t\t 4 bright tan - returns 196 as product+leaf\n",
      "\t\t\t\t\t\t\t 3 dark cyan - returns 3 as leaf\n",
      "\t\t\t\t\t\t\t 3 striped crimson - returns 3 as leaf\n",
      "\t\t\t\t\t\t 5 light beige - returns 35 as product+leaf\n",
      "\t\t\t\t\t\t 3 light white - returns 3 as leaf\n",
      "\t\t\t\t\t 4 shiny maroon - returns 156 as product+leaf\n",
      "\t\t\t\t\t 2 faded fuchsia - returns 2 as leaf\n",
      "\t\t\t\t 1 dark plum - returns 359 as product+leaf\n",
      "\t\t\t\t 1 dark cyan - returns 1 as leaf\n",
      "\t\t\t 5 faded silver - returns 2380 as product+leaf\n",
      "\t\t 1 vibrant bronze - returns 2541 as product+leaf\n",
      "\t\t 5 dim gold - returns 5 as leaf\n",
      "\t 2 pale coral - returns 5094 as product+leaf\n",
      " 1 shiny gold - returns 7868 as product+leaf\n"
     ]
    },
    {
     "data": {
      "text/plain": [
       "7867"
      ]
     },
     "execution_count": 147,
     "metadata": {},
     "output_type": "execute_result"
    }
   ],
   "source": [
    "count_must_contain(\"shiny\", \"gold\")"
   ]
  },
  {
   "cell_type": "code",
   "execution_count": null,
   "metadata": {},
   "outputs": [],
   "source": []
  }
 ],
 "metadata": {
  "kernelspec": {
   "display_name": "Python 3",
   "language": "python",
   "name": "python3"
  },
  "language_info": {
   "codemirror_mode": {
    "name": "ipython",
    "version": 3
   },
   "file_extension": ".py",
   "mimetype": "text/x-python",
   "name": "python",
   "nbconvert_exporter": "python",
   "pygments_lexer": "ipython3",
   "version": "3.6.6"
  }
 },
 "nbformat": 4,
 "nbformat_minor": 4
}
