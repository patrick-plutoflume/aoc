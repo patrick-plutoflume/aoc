{
 "cells": [
  {
   "cell_type": "code",
   "execution_count": 1,
   "metadata": {},
   "outputs": [],
   "source": [
    "with open(\"input.txt\") as f:\n",
    "    data = list(map(int, map(str.rstrip, f)))"
   ]
  },
  {
   "cell_type": "code",
   "execution_count": 2,
   "metadata": {},
   "outputs": [
    {
     "name": "stdout",
     "output_type": "stream",
     "text": [
      "50047984\n"
     ]
    }
   ],
   "source": [
    "from collections import deque\n",
    "\n",
    "\n",
    "max_len = 25\n",
    "preamble = deque()\n",
    "\n",
    "\n",
    "for i, n in enumerate(data):\n",
    "    if len(preamble) < max_len:\n",
    "        preamble.append(n)\n",
    "        continue\n",
    "        \n",
    "    if len(preamble) > max_len:\n",
    "        preamble.popleft()\n",
    "    \n",
    "    # maybe some fancy set thing you can do here but I can't be bothered\n",
    "    if not any(a + b == n for a in preamble for b in preamble):\n",
    "        print(n)\n",
    "        break\n",
    "    \n",
    "    preamble.append(n)"
   ]
  },
  {
   "cell_type": "code",
   "execution_count": 3,
   "metadata": {},
   "outputs": [
    {
     "name": "stdout",
     "output_type": "stream",
     "text": [
      "50047984 50047984 426 442\n"
     ]
    }
   ],
   "source": [
    "running_sum = data[0]\n",
    "target = 50047984\n",
    "window_start = 0\n",
    "\n",
    "for window_end in range(1, len(data)):\n",
    "    while running_sum > target and window_start < window_end - 1:\n",
    "        running_sum -= data[window_start]\n",
    "        window_start += 1\n",
    "    \n",
    "    if running_sum == target:\n",
    "        print(running_sum, sum(data[window_start:window_end]), window_start, window_end-1)\n",
    "        break\n",
    "    \n",
    "    running_sum += data[window_end]"
   ]
  },
  {
   "cell_type": "code",
   "execution_count": 4,
   "metadata": {},
   "outputs": [
    {
     "data": {
      "text/plain": [
       "5407707"
      ]
     },
     "execution_count": 4,
     "metadata": {},
     "output_type": "execute_result"
    }
   ],
   "source": [
    "min(data[window_start:window_end]) + max(data[window_start:window_end])"
   ]
  },
  {
   "cell_type": "code",
   "execution_count": null,
   "metadata": {},
   "outputs": [],
   "source": []
  }
 ],
 "metadata": {
  "kernelspec": {
   "display_name": "Python 3",
   "language": "python",
   "name": "python3"
  },
  "language_info": {
   "codemirror_mode": {
    "name": "ipython",
    "version": 3
   },
   "file_extension": ".py",
   "mimetype": "text/x-python",
   "name": "python",
   "nbconvert_exporter": "python",
   "pygments_lexer": "ipython3",
   "version": "3.6.6"
  }
 },
 "nbformat": 4,
 "nbformat_minor": 4
}
