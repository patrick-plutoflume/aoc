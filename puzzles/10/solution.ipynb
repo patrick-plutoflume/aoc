{
 "cells": [
  {
   "cell_type": "markdown",
   "metadata": {},
   "source": [
    "Find a chain that uses all of your adapters to connect the charging outlet to your device's built-in adapter and count the joltage differences between the charging outlet, the adapters, and your device. What is the number of 1-jolt differences multiplied by the number of 3-jolt differences?"
   ]
  },
  {
   "cell_type": "code",
   "execution_count": 1,
   "metadata": {},
   "outputs": [],
   "source": [
    "with open(\"input.txt\") as f:\n",
    "    vals = list(map(int, f))"
   ]
  },
  {
   "cell_type": "code",
   "execution_count": 5,
   "metadata": {},
   "outputs": [],
   "source": [
    "device_rating = max(vals) + 3"
   ]
  },
  {
   "cell_type": "code",
   "execution_count": 12,
   "metadata": {},
   "outputs": [
    {
     "data": {
      "text/plain": [
       "2414"
      ]
     },
     "execution_count": 12,
     "metadata": {},
     "output_type": "execute_result"
    }
   ],
   "source": [
    "adapter_chain = [0]\n",
    "\n",
    "for adapter in sorted(vals):\n",
    "    prev_adapter = adapter_chain[-1]\n",
    "    \n",
    "    assert adapter in range(prev_adapter+1, prev_adapter+3+1)\n",
    "    \n",
    "    adapter_chain.append(adapter)\n",
    "\n",
    "adapter_chain.append(device_rating)\n",
    "\n",
    "diffs = [\n",
    "    adapter_chain[i+1] - adapter_chain[i]\n",
    "    for i in range(len(adapter_chain)-1)\n",
    "]\n",
    "\n",
    "diffs.count(1) * diffs.count(3)"
   ]
  },
  {
   "cell_type": "code",
   "execution_count": 59,
   "metadata": {},
   "outputs": [],
   "source": [
    "from collections import defaultdict\n",
    "\n",
    "\n",
    "def count_valid_paths(vals):\n",
    "    vals = sorted([0] + vals + [max(vals) + 3])\n",
    "    \n",
    "    vals_to_index = {\n",
    "        v: i\n",
    "        for i, v in enumerate(vals)\n",
    "    }\n",
    "    \n",
    "    index_to_counts = {\n",
    "        len(vals) - 1: 1\n",
    "    }\n",
    "    \n",
    "    def get_count(index):\n",
    "        if index in index_to_counts:\n",
    "            return index_to_counts[index]\n",
    "        \n",
    "        ret = 0\n",
    "        \n",
    "        for offset in (1, 2, 3):\n",
    "            if index + offset < len(vals) and vals[index + offset] in range(vals[index] + 1, vals[index] + 3 + 1):\n",
    "                ret += index_to_counts[index + offset]\n",
    "        \n",
    "        index_to_counts[index] = ret\n",
    "        \n",
    "        return ret\n",
    "    \n",
    "    \n",
    "    for i in reversed(sorted(vals_to_index.values())):\n",
    "        index_to_counts[i] = get_count(i)\n",
    "    \n",
    "    return index_to_counts[0]\n",
    "            "
   ]
  },
  {
   "cell_type": "code",
   "execution_count": 60,
   "metadata": {},
   "outputs": [],
   "source": [
    "test_input_1 = [16, 10, 15, 5, 1, 11, 7, 19, 6, 12, 4]\n",
    "test_input_2 = [28, 33, 18, 42, 31, 14, 46, 20, 48, 47, 24, 23, 49, 45, 19, 38, 39, 11, 1, 32, 25, 35, 8, 17, 7, 9, 4, 2, 34, 10, 3]"
   ]
  },
  {
   "cell_type": "code",
   "execution_count": 62,
   "metadata": {},
   "outputs": [
    {
     "name": "stdout",
     "output_type": "stream",
     "text": [
      "8\n",
      "19208\n"
     ]
    }
   ],
   "source": [
    "print(count_valid_paths(test_input_1))\n",
    "print(count_valid_paths(test_input_2))"
   ]
  },
  {
   "cell_type": "code",
   "execution_count": 64,
   "metadata": {},
   "outputs": [
    {
     "name": "stdout",
     "output_type": "stream",
     "text": [
      "21156911906816\n"
     ]
    }
   ],
   "source": [
    "print(count_valid_paths(vals))"
   ]
  },
  {
   "cell_type": "code",
   "execution_count": null,
   "metadata": {},
   "outputs": [],
   "source": []
  }
 ],
 "metadata": {
  "kernelspec": {
   "display_name": "Python 3",
   "language": "python",
   "name": "python3"
  },
  "language_info": {
   "codemirror_mode": {
    "name": "ipython",
    "version": 3
   },
   "file_extension": ".py",
   "mimetype": "text/x-python",
   "name": "python",
   "nbconvert_exporter": "python",
   "pygments_lexer": "ipython3",
   "version": "3.6.6"
  }
 },
 "nbformat": 4,
 "nbformat_minor": 4
}
