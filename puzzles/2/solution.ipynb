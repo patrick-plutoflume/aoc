{
 "cells": [
  {
   "cell_type": "code",
   "execution_count": 14,
   "metadata": {},
   "outputs": [],
   "source": [
    "import re\n",
    "\n",
    "\n",
    "def parse_line(l):\n",
    "    return re.findall(\n",
    "        r\"(\\d+)-(\\d+) (\\w): (\\w+)\",\n",
    "        l\n",
    "    )[0]\n",
    "\n",
    "\n",
    "with open(\"input.txt\") as f:\n",
    "    lines = list(map(parse_line, f))"
   ]
  },
  {
   "cell_type": "code",
   "execution_count": 34,
   "metadata": {},
   "outputs": [],
   "source": [
    "def line_is_valid(line):\n",
    "    start, end, c, pw = line\n",
    "        \n",
    "    return pw.count(c) in range(int(start), int(end)+1)\n",
    "\n",
    "\n",
    "def line_is_valid_new(line):\n",
    "    start, end, c, pw = line\n",
    "    \n",
    "    \n",
    "    return c in {\n",
    "        pw[int(start) - 1],\n",
    "        pw[int(end) - 1]\n",
    "    }"
   ]
  },
  {
   "cell_type": "code",
   "execution_count": 35,
   "metadata": {},
   "outputs": [
    {
     "data": {
      "text/plain": [
       "603"
      ]
     },
     "execution_count": 35,
     "metadata": {},
     "output_type": "execute_result"
    }
   ],
   "source": [
    "sum(map(line_is_valid, lines))"
   ]
  },
  {
   "cell_type": "code",
   "execution_count": 36,
   "metadata": {},
   "outputs": [
    {
     "data": {
      "text/plain": [
       "702"
      ]
     },
     "execution_count": 36,
     "metadata": {},
     "output_type": "execute_result"
    }
   ],
   "source": [
    "sum(map(line_is_valid_new, lines))"
   ]
  },
  {
   "cell_type": "code",
   "execution_count": null,
   "metadata": {},
   "outputs": [],
   "source": []
  }
 ],
 "metadata": {
  "kernelspec": {
   "display_name": "Python 3",
   "language": "python",
   "name": "python3"
  },
  "language_info": {
   "codemirror_mode": {
    "name": "ipython",
    "version": 3
   },
   "file_extension": ".py",
   "mimetype": "text/x-python",
   "name": "python",
   "nbconvert_exporter": "python",
   "pygments_lexer": "ipython3",
   "version": "3.6.6"
  }
 },
 "nbformat": 4,
 "nbformat_minor": 4
}
