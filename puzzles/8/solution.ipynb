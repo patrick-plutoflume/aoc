{
 "cells": [
  {
   "cell_type": "code",
   "execution_count": 1,
   "metadata": {},
   "outputs": [],
   "source": [
    "with open(\"input.txt\") as f:\n",
    "    ops = list(map(str.rstrip, f))"
   ]
  },
  {
   "cell_type": "code",
   "execution_count": 28,
   "metadata": {},
   "outputs": [],
   "source": [
    "def process(ops):\n",
    "    acc, reg, i = 0, 0, 0\n",
    "    \n",
    "    procd_instructions = dict()\n",
    "    \n",
    "    last_reg = 0\n",
    "    \n",
    "    while True:\n",
    "        op, arg = ops[reg].split()\n",
    "        \n",
    "        if reg in procd_instructions:\n",
    "            raise ValueError(f\"{reg} executed twice - acc={acc}, reg={reg}, i={i}, last_reg={last_reg}\")\n",
    "        else:\n",
    "            procd_instructions[reg] = i\n",
    "        \n",
    "        last_reg = reg\n",
    "        \n",
    "        if op == \"nop\":\n",
    "            reg += 1\n",
    "        elif op == \"acc\":\n",
    "            acc += int(arg)\n",
    "            reg += 1\n",
    "        elif op == \"jmp\":\n",
    "            reg += int(arg)\n",
    "        \n",
    "        if reg == len(ops):\n",
    "            print(acc)\n",
    "            return acc\n",
    "        i += 1"
   ]
  },
  {
   "cell_type": "code",
   "execution_count": 29,
   "metadata": {},
   "outputs": [
    {
     "ename": "ValueError",
     "evalue": "118 executed twice - acc=1684, reg=118, i=197, last_reg=563",
     "output_type": "error",
     "traceback": [
      "\u001b[0;31m---------------------------------------------------------------------------\u001b[0m",
      "\u001b[0;31mValueError\u001b[0m                                Traceback (most recent call last)",
      "\u001b[0;32m<ipython-input-29-d9f9688b0e08>\u001b[0m in \u001b[0;36m<module>\u001b[0;34m\u001b[0m\n\u001b[0;32m----> 1\u001b[0;31m \u001b[0mprocess\u001b[0m\u001b[0;34m(\u001b[0m\u001b[0mops\u001b[0m\u001b[0;34m)\u001b[0m\u001b[0;34m\u001b[0m\u001b[0m\n\u001b[0m",
      "\u001b[0;32m<ipython-input-28-533eb46a81c3>\u001b[0m in \u001b[0;36mprocess\u001b[0;34m(ops)\u001b[0m\n\u001b[1;32m     10\u001b[0m \u001b[0;34m\u001b[0m\u001b[0m\n\u001b[1;32m     11\u001b[0m         \u001b[0;32mif\u001b[0m \u001b[0mreg\u001b[0m \u001b[0;32min\u001b[0m \u001b[0mprocd_instructions\u001b[0m\u001b[0;34m:\u001b[0m\u001b[0;34m\u001b[0m\u001b[0m\n\u001b[0;32m---> 12\u001b[0;31m             \u001b[0;32mraise\u001b[0m \u001b[0mValueError\u001b[0m\u001b[0;34m(\u001b[0m\u001b[0;34mf\"{reg} executed twice - acc={acc}, reg={reg}, i={i}, last_reg={last_reg}\"\u001b[0m\u001b[0;34m)\u001b[0m\u001b[0;34m\u001b[0m\u001b[0m\n\u001b[0m\u001b[1;32m     13\u001b[0m         \u001b[0;32melse\u001b[0m\u001b[0;34m:\u001b[0m\u001b[0;34m\u001b[0m\u001b[0m\n\u001b[1;32m     14\u001b[0m             \u001b[0mprocd_instructions\u001b[0m\u001b[0;34m[\u001b[0m\u001b[0mreg\u001b[0m\u001b[0;34m]\u001b[0m \u001b[0;34m=\u001b[0m \u001b[0mi\u001b[0m\u001b[0;34m\u001b[0m\u001b[0m\n",
      "\u001b[0;31mValueError\u001b[0m: 118 executed twice - acc=1684, reg=118, i=197, last_reg=563"
     ]
    }
   ],
   "source": [
    "process(ops)"
   ]
  },
  {
   "cell_type": "code",
   "execution_count": 30,
   "metadata": {},
   "outputs": [
    {
     "data": {
      "text/plain": [
       "'jmp -445'"
      ]
     },
     "execution_count": 30,
     "metadata": {},
     "output_type": "execute_result"
    }
   ],
   "source": [
    "ops[563]"
   ]
  },
  {
   "cell_type": "code",
   "execution_count": 31,
   "metadata": {},
   "outputs": [],
   "source": [
    "ops[563] = \"jmp -445\""
   ]
  },
  {
   "cell_type": "code",
   "execution_count": 32,
   "metadata": {},
   "outputs": [
    {
     "name": "stdout",
     "output_type": "stream",
     "text": [
      "2188\n"
     ]
    }
   ],
   "source": [
    "for i, op in enumerate(ops):\n",
    "    op, arg = op.split()\n",
    "    \n",
    "    if op == \"nop\":\n",
    "        ops[i] = f\"jmp {arg}\"\n",
    "        try:\n",
    "            process(ops)\n",
    "            break\n",
    "        except:\n",
    "            ops[i] = f\"{op} {arg}\"\n",
    "    elif op == \"jmp\":\n",
    "        ops[i] = f\"nop {arg}\"\n",
    "        try:\n",
    "            process(ops)\n",
    "            break\n",
    "        except:\n",
    "            ops[i] = f\"{op} {arg}\"\n",
    "            "
   ]
  },
  {
   "cell_type": "code",
   "execution_count": null,
   "metadata": {},
   "outputs": [],
   "source": []
  }
 ],
 "metadata": {
  "kernelspec": {
   "display_name": "Python 3",
   "language": "python",
   "name": "python3"
  },
  "language_info": {
   "codemirror_mode": {
    "name": "ipython",
    "version": 3
   },
   "file_extension": ".py",
   "mimetype": "text/x-python",
   "name": "python",
   "nbconvert_exporter": "python",
   "pygments_lexer": "ipython3",
   "version": "3.6.6"
  }
 },
 "nbformat": 4,
 "nbformat_minor": 4
}
